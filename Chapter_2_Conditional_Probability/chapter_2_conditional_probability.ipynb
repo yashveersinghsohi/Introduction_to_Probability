{
 "cells": [
  {
   "cell_type": "markdown",
   "id": "0177bdbc",
   "metadata": {},
   "source": [
    "# Simulating the Frequentist Approach to Probability"
   ]
  },
  {
   "cell_type": "code",
   "execution_count": 1,
   "id": "8f94d539",
   "metadata": {
    "vscode": {
     "languageId": "r"
    }
   },
   "outputs": [
    {
     "data": {
      "text/html": [
       "0.501627038789403"
      ],
      "text/latex": [
       "0.501627038789403"
      ],
      "text/markdown": [
       "0.501627038789403"
      ],
      "text/plain": [
       "[1] 0.501627"
      ]
     },
     "metadata": {},
     "output_type": "display_data"
    }
   ],
   "source": [
    "n <- 10^5\n",
    "child1 <- sample(x = 2, size = n, replace = TRUE)\n",
    "child2 <- sample(x = 2, size = n, replace = TRUE)\n",
    "\n",
    "n.elder.girl <- sum(child1 == 1)\n",
    "n.both.girls <- sum((child1 == 1) & (child2 == 1))\n",
    "n.both.girls/n.elder.girl"
   ]
  },
  {
   "cell_type": "code",
   "execution_count": 2,
   "id": "143a2958",
   "metadata": {
    "vscode": {
     "languageId": "r"
    }
   },
   "outputs": [
    {
     "data": {
      "text/html": [
       "0.334629572906817"
      ],
      "text/latex": [
       "0.334629572906817"
      ],
      "text/markdown": [
       "0.334629572906817"
      ],
      "text/plain": [
       "[1] 0.3346296"
      ]
     },
     "metadata": {},
     "output_type": "display_data"
    }
   ],
   "source": [
    "n.atleast.one.girl <- sum((child1 == 1) | (child2 == 1))\n",
    "n.both.girls/n.atleast.one.girl"
   ]
  },
  {
   "cell_type": "markdown",
   "id": "f7f816af",
   "metadata": {},
   "source": [
    "# Monty Hall"
   ]
  },
  {
   "cell_type": "code",
   "execution_count": 4,
   "id": "87350330",
   "metadata": {
    "vscode": {
     "languageId": "r"
    }
   },
   "outputs": [
    {
     "data": {
      "text/html": [
       "0.33314"
      ],
      "text/latex": [
       "0.33314"
      ],
      "text/markdown": [
       "0.33314"
      ],
      "text/plain": [
       "[1] 0.33314"
      ]
     },
     "metadata": {},
     "output_type": "display_data"
    }
   ],
   "source": [
    "n <- 10^5\n",
    "car.door <- sample(x = 3, size = n, replace = TRUE)\n",
    "\n",
    "sum(car.door==1)/n"
   ]
  },
  {
   "cell_type": "code",
   "execution_count": 5,
   "id": "c1cccd93",
   "metadata": {
    "vscode": {
     "languageId": "r"
    }
   },
   "outputs": [],
   "source": [
    "monty <- function() {\n",
    "    # Number of Doors \n",
    "    doors <- 1:3\n",
    "    # Place the car behind one of the doors\n",
    "    car.door <- sample(doors, 1)\n",
    "    # Prompt the player to choose their initial door\n",
    "    print(\"Pick any door!\")\n",
    "    # Get Player's choice\n",
    "    init.choice <- scan(what = integer(), nlines = 1, quiet = TRUE)\n",
    "    \n",
    "    # Monty's door\n",
    "    # If car door is not selected initially pick the door with the goat\n",
    "    if (init.choice != car.door) monty.door <- doors[-c(car.door, init.choice)]\n",
    "    # If car door was chosen first, then pick any one of the remaining doors\n",
    "    else monty.door <- sample(doors[-chosen], 1)\n",
    "\n",
    "    # Does player wants to switch\n",
    "    print(paste(\"Monty Opens: \", monty.door, sep=\"\"))\n",
    "    print(\"Would you like to switch (y/n)?\")\n",
    "    reply <- scan(what = character(), nlines = 1, quiet = TRUE)\n",
    "\n",
    "    # Interpret Player Choice\n",
    "    if (substr(reply, 1, 1) == \"y\") {\n",
    "        final.choice <- doors[-c(init.choice, monty.door)] \n",
    "    }\n",
    "    else final.choice <- init.choice\n",
    "\n",
    "    # Display result of the game\n",
    "    if (final.choice == car.door) print(\"You Won!\")\n",
    "    else print(\"You Lost!\")\n",
    "}\n"
   ]
  }
 ],
 "metadata": {
  "kernelspec": {
   "display_name": "R",
   "language": "R",
   "name": "ir"
  },
  "language_info": {
   "codemirror_mode": "r",
   "file_extension": ".r",
   "mimetype": "text/x-r-source",
   "name": "R",
   "pygments_lexer": "r",
   "version": "4.2.2"
  }
 },
 "nbformat": 4,
 "nbformat_minor": 5
}
